{
 "cells": [
  {
   "cell_type": "code",
   "execution_count": 55,
   "metadata": {},
   "outputs": [],
   "source": [
    "import pandas as pd"
   ]
  },
  {
   "cell_type": "code",
   "execution_count": 56,
   "metadata": {},
   "outputs": [
    {
     "data": {
      "text/html": [
       "<div>\n",
       "<style scoped>\n",
       "    .dataframe tbody tr th:only-of-type {\n",
       "        vertical-align: middle;\n",
       "    }\n",
       "\n",
       "    .dataframe tbody tr th {\n",
       "        vertical-align: top;\n",
       "    }\n",
       "\n",
       "    .dataframe thead th {\n",
       "        text-align: right;\n",
       "    }\n",
       "</style>\n",
       "<table border=\"1\" class=\"dataframe\">\n",
       "  <thead>\n",
       "    <tr style=\"text-align: right;\">\n",
       "      <th></th>\n",
       "      <th>Row ID</th>\n",
       "      <th>Order ID</th>\n",
       "      <th>Order Date</th>\n",
       "      <th>Ship Date</th>\n",
       "      <th>Ship Mode</th>\n",
       "      <th>Customer ID</th>\n",
       "      <th>Customer Name</th>\n",
       "      <th>Segment</th>\n",
       "      <th>City</th>\n",
       "      <th>State</th>\n",
       "      <th>...</th>\n",
       "      <th>Product ID</th>\n",
       "      <th>Category</th>\n",
       "      <th>Sub-Category</th>\n",
       "      <th>Product Name</th>\n",
       "      <th>Sales</th>\n",
       "      <th>Quantity</th>\n",
       "      <th>Discount</th>\n",
       "      <th>Profit</th>\n",
       "      <th>Shipping Cost</th>\n",
       "      <th>Order Priority</th>\n",
       "    </tr>\n",
       "  </thead>\n",
       "  <tbody>\n",
       "    <tr>\n",
       "      <th>0</th>\n",
       "      <td>1783</td>\n",
       "      <td>MX-2014-116267</td>\n",
       "      <td>31-12-2014</td>\n",
       "      <td>03-01-2015</td>\n",
       "      <td>Second Class</td>\n",
       "      <td>EB-13975</td>\n",
       "      <td>Erica Bern</td>\n",
       "      <td>Corporate</td>\n",
       "      <td>S�o Paulo</td>\n",
       "      <td>S�o Paulo</td>\n",
       "      <td>...</td>\n",
       "      <td>TEC-CO-10000137</td>\n",
       "      <td>Technology</td>\n",
       "      <td>Copiers</td>\n",
       "      <td>Canon Wireless Fax, Color</td>\n",
       "      <td>1264.4660</td>\n",
       "      <td>5</td>\n",
       "      <td>0.002</td>\n",
       "      <td>301.4660</td>\n",
       "      <td>253.25</td>\n",
       "      <td>High</td>\n",
       "    </tr>\n",
       "    <tr>\n",
       "      <th>1</th>\n",
       "      <td>26535</td>\n",
       "      <td>IN-2014-43550</td>\n",
       "      <td>31-12-2014</td>\n",
       "      <td>01-01-2015</td>\n",
       "      <td>First Class</td>\n",
       "      <td>ML-17395</td>\n",
       "      <td>Marina Lichtenstein</td>\n",
       "      <td>Corporate</td>\n",
       "      <td>Jakarta</td>\n",
       "      <td>Jakarta</td>\n",
       "      <td>...</td>\n",
       "      <td>FUR-BO-10004679</td>\n",
       "      <td>Furniture</td>\n",
       "      <td>Bookcases</td>\n",
       "      <td>Safco Library with Doors, Pine</td>\n",
       "      <td>1091.2806</td>\n",
       "      <td>3</td>\n",
       "      <td>0.070</td>\n",
       "      <td>46.9206</td>\n",
       "      <td>243.11</td>\n",
       "      <td>High</td>\n",
       "    </tr>\n",
       "    <tr>\n",
       "      <th>2</th>\n",
       "      <td>44025</td>\n",
       "      <td>RS-2014-1460</td>\n",
       "      <td>31-12-2014</td>\n",
       "      <td>02-01-2015</td>\n",
       "      <td>Second Class</td>\n",
       "      <td>PB-9105</td>\n",
       "      <td>Peter B�hler</td>\n",
       "      <td>Consumer</td>\n",
       "      <td>Ufa</td>\n",
       "      <td>Bashkortostan</td>\n",
       "      <td>...</td>\n",
       "      <td>TEC-HEW-10004652</td>\n",
       "      <td>Technology</td>\n",
       "      <td>Copiers</td>\n",
       "      <td>Hewlett Personal Copier, Laser</td>\n",
       "      <td>865.6200</td>\n",
       "      <td>6</td>\n",
       "      <td>0.000</td>\n",
       "      <td>51.8400</td>\n",
       "      <td>138.18</td>\n",
       "      <td>High</td>\n",
       "    </tr>\n",
       "    <tr>\n",
       "      <th>3</th>\n",
       "      <td>26333</td>\n",
       "      <td>IN-2014-30390</td>\n",
       "      <td>31-12-2014</td>\n",
       "      <td>03-01-2015</td>\n",
       "      <td>First Class</td>\n",
       "      <td>JD-16150</td>\n",
       "      <td>Justin Deggeller</td>\n",
       "      <td>Corporate</td>\n",
       "      <td>Bangkok</td>\n",
       "      <td>Bangkok</td>\n",
       "      <td>...</td>\n",
       "      <td>FUR-TA-10001531</td>\n",
       "      <td>Furniture</td>\n",
       "      <td>Tables</td>\n",
       "      <td>Lesro Training Table, Adjustable Height</td>\n",
       "      <td>1048.7313</td>\n",
       "      <td>9</td>\n",
       "      <td>0.570</td>\n",
       "      <td>-1195.2387</td>\n",
       "      <td>86.86</td>\n",
       "      <td>High</td>\n",
       "    </tr>\n",
       "    <tr>\n",
       "      <th>4</th>\n",
       "      <td>12929</td>\n",
       "      <td>ES-2014-3458802</td>\n",
       "      <td>31-12-2014</td>\n",
       "      <td>05-01-2015</td>\n",
       "      <td>Standard Class</td>\n",
       "      <td>JG-15805</td>\n",
       "      <td>John Grady</td>\n",
       "      <td>Corporate</td>\n",
       "      <td>Maidenhead</td>\n",
       "      <td>England</td>\n",
       "      <td>...</td>\n",
       "      <td>TEC-PH-10003683</td>\n",
       "      <td>Technology</td>\n",
       "      <td>Phones</td>\n",
       "      <td>Motorola Audio Dock, VoIP</td>\n",
       "      <td>867.3000</td>\n",
       "      <td>5</td>\n",
       "      <td>0.000</td>\n",
       "      <td>251.4000</td>\n",
       "      <td>53.16</td>\n",
       "      <td>Medium</td>\n",
       "    </tr>\n",
       "  </tbody>\n",
       "</table>\n",
       "<p>5 rows × 24 columns</p>\n",
       "</div>"
      ],
      "text/plain": [
       "   Row ID         Order ID  Order Date   Ship Date       Ship Mode  \\\n",
       "0    1783   MX-2014-116267  31-12-2014  03-01-2015    Second Class   \n",
       "1   26535    IN-2014-43550  31-12-2014  01-01-2015     First Class   \n",
       "2   44025     RS-2014-1460  31-12-2014  02-01-2015    Second Class   \n",
       "3   26333    IN-2014-30390  31-12-2014  03-01-2015     First Class   \n",
       "4   12929  ES-2014-3458802  31-12-2014  05-01-2015  Standard Class   \n",
       "\n",
       "  Customer ID        Customer Name    Segment        City          State  ...  \\\n",
       "0    EB-13975           Erica Bern  Corporate   S�o Paulo      S�o Paulo  ...   \n",
       "1    ML-17395  Marina Lichtenstein  Corporate     Jakarta        Jakarta  ...   \n",
       "2     PB-9105         Peter B�hler   Consumer         Ufa  Bashkortostan  ...   \n",
       "3    JD-16150     Justin Deggeller  Corporate     Bangkok        Bangkok  ...   \n",
       "4    JG-15805           John Grady  Corporate  Maidenhead        England  ...   \n",
       "\n",
       "         Product ID    Category Sub-Category  \\\n",
       "0   TEC-CO-10000137  Technology      Copiers   \n",
       "1   FUR-BO-10004679   Furniture    Bookcases   \n",
       "2  TEC-HEW-10004652  Technology      Copiers   \n",
       "3   FUR-TA-10001531   Furniture       Tables   \n",
       "4   TEC-PH-10003683  Technology       Phones   \n",
       "\n",
       "                              Product Name      Sales Quantity Discount  \\\n",
       "0                Canon Wireless Fax, Color  1264.4660        5    0.002   \n",
       "1           Safco Library with Doors, Pine  1091.2806        3    0.070   \n",
       "2           Hewlett Personal Copier, Laser   865.6200        6    0.000   \n",
       "3  Lesro Training Table, Adjustable Height  1048.7313        9    0.570   \n",
       "4                Motorola Audio Dock, VoIP   867.3000        5    0.000   \n",
       "\n",
       "      Profit  Shipping Cost  Order Priority  \n",
       "0   301.4660         253.25            High  \n",
       "1    46.9206         243.11            High  \n",
       "2    51.8400         138.18            High  \n",
       "3 -1195.2387          86.86            High  \n",
       "4   251.4000          53.16          Medium  \n",
       "\n",
       "[5 rows x 24 columns]"
      ]
     },
     "execution_count": 56,
     "metadata": {},
     "output_type": "execute_result"
    }
   ],
   "source": [
    "df = pd.read_csv(r\"CSVversions\\Global Data Superstore.csv\")\n",
    "df.head()"
   ]
  },
  {
   "cell_type": "markdown",
   "metadata": {},
   "source": [
    "DATA PREPROCESSING and CLEANING"
   ]
  },
  {
   "cell_type": "code",
   "execution_count": 57,
   "metadata": {},
   "outputs": [
    {
     "data": {
      "text/plain": [
       "Index(['Row ID', 'Order ID', 'Order Date', 'Ship Date', 'Ship Mode',\n",
       "       'Customer ID', 'Customer Name', 'Segment', 'City', 'State', 'Country',\n",
       "       'Postal Code', 'Market', 'Region', 'Product ID', 'Category',\n",
       "       'Sub-Category', 'Product Name', 'Sales', 'Quantity', 'Discount',\n",
       "       'Profit', 'Shipping Cost', 'Order Priority'],\n",
       "      dtype='object')"
      ]
     },
     "execution_count": 57,
     "metadata": {},
     "output_type": "execute_result"
    }
   ],
   "source": [
    "df.columns"
   ]
  },
  {
   "cell_type": "markdown",
   "metadata": {},
   "source": [
    "DELETE UNNECESSARY COLUMNS/FEATURES"
   ]
  },
  {
   "cell_type": "code",
   "execution_count": 58,
   "metadata": {},
   "outputs": [
    {
     "data": {
      "text/html": [
       "<div>\n",
       "<style scoped>\n",
       "    .dataframe tbody tr th:only-of-type {\n",
       "        vertical-align: middle;\n",
       "    }\n",
       "\n",
       "    .dataframe tbody tr th {\n",
       "        vertical-align: top;\n",
       "    }\n",
       "\n",
       "    .dataframe thead th {\n",
       "        text-align: right;\n",
       "    }\n",
       "</style>\n",
       "<table border=\"1\" class=\"dataframe\">\n",
       "  <thead>\n",
       "    <tr style=\"text-align: right;\">\n",
       "      <th></th>\n",
       "      <th>Order Date</th>\n",
       "      <th>Ship Date</th>\n",
       "      <th>Ship Mode</th>\n",
       "      <th>Segment</th>\n",
       "      <th>City</th>\n",
       "      <th>State</th>\n",
       "      <th>Country</th>\n",
       "      <th>Postal Code</th>\n",
       "      <th>Market</th>\n",
       "      <th>Region</th>\n",
       "      <th>Category</th>\n",
       "      <th>Sub-Category</th>\n",
       "      <th>Product Name</th>\n",
       "      <th>Sales</th>\n",
       "      <th>Quantity</th>\n",
       "      <th>Discount</th>\n",
       "      <th>Profit</th>\n",
       "      <th>Shipping Cost</th>\n",
       "      <th>Order Priority</th>\n",
       "    </tr>\n",
       "  </thead>\n",
       "  <tbody>\n",
       "    <tr>\n",
       "      <th>0</th>\n",
       "      <td>31-12-2014</td>\n",
       "      <td>03-01-2015</td>\n",
       "      <td>Second Class</td>\n",
       "      <td>Corporate</td>\n",
       "      <td>S�o Paulo</td>\n",
       "      <td>S�o Paulo</td>\n",
       "      <td>Brazil</td>\n",
       "      <td>NaN</td>\n",
       "      <td>LATAM</td>\n",
       "      <td>South</td>\n",
       "      <td>Technology</td>\n",
       "      <td>Copiers</td>\n",
       "      <td>Canon Wireless Fax, Color</td>\n",
       "      <td>1264.4660</td>\n",
       "      <td>5</td>\n",
       "      <td>0.002</td>\n",
       "      <td>301.4660</td>\n",
       "      <td>253.25</td>\n",
       "      <td>High</td>\n",
       "    </tr>\n",
       "    <tr>\n",
       "      <th>1</th>\n",
       "      <td>31-12-2014</td>\n",
       "      <td>01-01-2015</td>\n",
       "      <td>First Class</td>\n",
       "      <td>Corporate</td>\n",
       "      <td>Jakarta</td>\n",
       "      <td>Jakarta</td>\n",
       "      <td>Indonesia</td>\n",
       "      <td>NaN</td>\n",
       "      <td>APAC</td>\n",
       "      <td>Southeast Asia</td>\n",
       "      <td>Furniture</td>\n",
       "      <td>Bookcases</td>\n",
       "      <td>Safco Library with Doors, Pine</td>\n",
       "      <td>1091.2806</td>\n",
       "      <td>3</td>\n",
       "      <td>0.070</td>\n",
       "      <td>46.9206</td>\n",
       "      <td>243.11</td>\n",
       "      <td>High</td>\n",
       "    </tr>\n",
       "    <tr>\n",
       "      <th>2</th>\n",
       "      <td>31-12-2014</td>\n",
       "      <td>02-01-2015</td>\n",
       "      <td>Second Class</td>\n",
       "      <td>Consumer</td>\n",
       "      <td>Ufa</td>\n",
       "      <td>Bashkortostan</td>\n",
       "      <td>Russia</td>\n",
       "      <td>NaN</td>\n",
       "      <td>EMEA</td>\n",
       "      <td>EMEA</td>\n",
       "      <td>Technology</td>\n",
       "      <td>Copiers</td>\n",
       "      <td>Hewlett Personal Copier, Laser</td>\n",
       "      <td>865.6200</td>\n",
       "      <td>6</td>\n",
       "      <td>0.000</td>\n",
       "      <td>51.8400</td>\n",
       "      <td>138.18</td>\n",
       "      <td>High</td>\n",
       "    </tr>\n",
       "    <tr>\n",
       "      <th>3</th>\n",
       "      <td>31-12-2014</td>\n",
       "      <td>03-01-2015</td>\n",
       "      <td>First Class</td>\n",
       "      <td>Corporate</td>\n",
       "      <td>Bangkok</td>\n",
       "      <td>Bangkok</td>\n",
       "      <td>Thailand</td>\n",
       "      <td>NaN</td>\n",
       "      <td>APAC</td>\n",
       "      <td>Southeast Asia</td>\n",
       "      <td>Furniture</td>\n",
       "      <td>Tables</td>\n",
       "      <td>Lesro Training Table, Adjustable Height</td>\n",
       "      <td>1048.7313</td>\n",
       "      <td>9</td>\n",
       "      <td>0.570</td>\n",
       "      <td>-1195.2387</td>\n",
       "      <td>86.86</td>\n",
       "      <td>High</td>\n",
       "    </tr>\n",
       "    <tr>\n",
       "      <th>4</th>\n",
       "      <td>31-12-2014</td>\n",
       "      <td>05-01-2015</td>\n",
       "      <td>Standard Class</td>\n",
       "      <td>Corporate</td>\n",
       "      <td>Maidenhead</td>\n",
       "      <td>England</td>\n",
       "      <td>United Kingdom</td>\n",
       "      <td>NaN</td>\n",
       "      <td>EU</td>\n",
       "      <td>North</td>\n",
       "      <td>Technology</td>\n",
       "      <td>Phones</td>\n",
       "      <td>Motorola Audio Dock, VoIP</td>\n",
       "      <td>867.3000</td>\n",
       "      <td>5</td>\n",
       "      <td>0.000</td>\n",
       "      <td>251.4000</td>\n",
       "      <td>53.16</td>\n",
       "      <td>Medium</td>\n",
       "    </tr>\n",
       "  </tbody>\n",
       "</table>\n",
       "</div>"
      ],
      "text/plain": [
       "   Order Date   Ship Date       Ship Mode    Segment        City  \\\n",
       "0  31-12-2014  03-01-2015    Second Class  Corporate   S�o Paulo   \n",
       "1  31-12-2014  01-01-2015     First Class  Corporate     Jakarta   \n",
       "2  31-12-2014  02-01-2015    Second Class   Consumer         Ufa   \n",
       "3  31-12-2014  03-01-2015     First Class  Corporate     Bangkok   \n",
       "4  31-12-2014  05-01-2015  Standard Class  Corporate  Maidenhead   \n",
       "\n",
       "           State         Country  Postal Code Market          Region  \\\n",
       "0      S�o Paulo          Brazil          NaN  LATAM           South   \n",
       "1        Jakarta       Indonesia          NaN   APAC  Southeast Asia   \n",
       "2  Bashkortostan          Russia          NaN   EMEA            EMEA   \n",
       "3        Bangkok        Thailand          NaN   APAC  Southeast Asia   \n",
       "4        England  United Kingdom          NaN     EU           North   \n",
       "\n",
       "     Category Sub-Category                             Product Name  \\\n",
       "0  Technology      Copiers                Canon Wireless Fax, Color   \n",
       "1   Furniture    Bookcases           Safco Library with Doors, Pine   \n",
       "2  Technology      Copiers           Hewlett Personal Copier, Laser   \n",
       "3   Furniture       Tables  Lesro Training Table, Adjustable Height   \n",
       "4  Technology       Phones                Motorola Audio Dock, VoIP   \n",
       "\n",
       "       Sales  Quantity  Discount     Profit  Shipping Cost Order Priority  \n",
       "0  1264.4660         5     0.002   301.4660         253.25           High  \n",
       "1  1091.2806         3     0.070    46.9206         243.11           High  \n",
       "2   865.6200         6     0.000    51.8400         138.18           High  \n",
       "3  1048.7313         9     0.570 -1195.2387          86.86           High  \n",
       "4   867.3000         5     0.000   251.4000          53.16         Medium  "
      ]
     },
     "execution_count": 58,
     "metadata": {},
     "output_type": "execute_result"
    }
   ],
   "source": [
    "# Row_ID, Order ID, Cutomer ID, Customer Name, Product ID are not required.\n",
    "\n",
    "df = df[['Order Date', 'Ship Date', 'Ship Mode',\n",
    "       'Segment', 'City', 'State', 'Country',\n",
    "       'Postal Code', 'Market', 'Region', 'Category',\n",
    "       'Sub-Category', 'Product Name', 'Sales', 'Quantity', 'Discount',\n",
    "       'Profit', 'Shipping Cost', 'Order Priority']]\n",
    "df.head()"
   ]
  },
  {
   "cell_type": "markdown",
   "metadata": {},
   "source": [
    "CHECK FOR DUPLICATE ROWS"
   ]
  },
  {
   "cell_type": "code",
   "execution_count": 59,
   "metadata": {},
   "outputs": [
    {
     "name": "stdout",
     "output_type": "stream",
     "text": [
      "Empty DataFrame\n",
      "Columns: [Order Date, Ship Date, Ship Mode, Segment, City, State, Country, Postal Code, Market, Region, Category, Sub-Category, Product Name, Sales, Quantity, Discount, Profit, Shipping Cost, Order Priority]\n",
      "Index: []\n"
     ]
    }
   ],
   "source": [
    "#check duplicate rows\n",
    "print(df[df.duplicated(df.head(0))])\n",
    "#NO DUPLICATE ROWS FOUND"
   ]
  },
  {
   "cell_type": "markdown",
   "metadata": {},
   "source": [
    "CHECK FOR NULL OR EMPTY VALUES"
   ]
  },
  {
   "cell_type": "code",
   "execution_count": 60,
   "metadata": {},
   "outputs": [
    {
     "data": {
      "text/plain": [
       "41296"
      ]
     },
     "execution_count": 60,
     "metadata": {},
     "output_type": "execute_result"
    }
   ],
   "source": [
    "df['Postal Code'].isnull().sum()"
   ]
  },
  {
   "cell_type": "markdown",
   "metadata": {},
   "source": [
    "As we can see Postal Code has 41296 rows as NaN. it is an unecessary column. The coutry and city data is enough to define the location"
   ]
  },
  {
   "cell_type": "code",
   "execution_count": 61,
   "metadata": {},
   "outputs": [],
   "source": [
    "del df['Postal Code']"
   ]
  },
  {
   "cell_type": "markdown",
   "metadata": {},
   "source": [
    "CONVERT CATEGORICAL DATA TO INTEGER"
   ]
  },
  {
   "cell_type": "code",
   "execution_count": 62,
   "metadata": {},
   "outputs": [],
   "source": [
    "newdf = df.copy(deep=True)"
   ]
  },
  {
   "cell_type": "code",
   "execution_count": 63,
   "metadata": {},
   "outputs": [
    {
     "data": {
      "text/plain": [
       "Standard Class    30774\n",
       "Second Class      10309\n",
       "First Class        7505\n",
       "Same Day           2701\n",
       "Name: Ship Mode, dtype: int64"
      ]
     },
     "execution_count": 63,
     "metadata": {},
     "output_type": "execute_result"
    }
   ],
   "source": [
    "newdf['Ship Mode'].value_counts()"
   ]
  },
  {
   "cell_type": "code",
   "execution_count": 64,
   "metadata": {},
   "outputs": [
    {
     "data": {
      "text/plain": [
       "3    30774\n",
       "2    10309\n",
       "1     7505\n",
       "0     2701\n",
       "Name: Ship Mode, dtype: int64"
      ]
     },
     "execution_count": 64,
     "metadata": {},
     "output_type": "execute_result"
    }
   ],
   "source": [
    "newdf['Ship Mode'] =  newdf['Ship Mode'].map({'Same Day':0, \n",
    "                                              'First Class':1,\n",
    "                                              'Second Class':2,\n",
    "                                              'Standard Class':3})\n",
    "newdf['Ship Mode'].value_counts()"
   ]
  },
  {
   "cell_type": "code",
   "execution_count": 65,
   "metadata": {},
   "outputs": [
    {
     "data": {
      "text/plain": [
       "Consumer       26518\n",
       "Corporate      15428\n",
       "Home Office     9343\n",
       "Name: Segment, dtype: int64"
      ]
     },
     "execution_count": 65,
     "metadata": {},
     "output_type": "execute_result"
    }
   ],
   "source": [
    "newdf['Segment'].value_counts()"
   ]
  },
  {
   "cell_type": "code",
   "execution_count": 66,
   "metadata": {},
   "outputs": [
    {
     "data": {
      "text/plain": [
       "2    26518\n",
       "1    15428\n",
       "0     9343\n",
       "Name: Segment, dtype: int64"
      ]
     },
     "execution_count": 66,
     "metadata": {},
     "output_type": "execute_result"
    }
   ],
   "source": [
    "newdf['Segment'] =  newdf['Segment'].map({'Home Office':0, \n",
    "                                        'Corporate':1,\n",
    "                                        'Consumer':2})\n",
    "newdf['Segment'].value_counts()"
   ]
  },
  {
   "cell_type": "code",
   "execution_count": 67,
   "metadata": {},
   "outputs": [
    {
     "name": "stdout",
     "output_type": "stream",
     "text": [
      "Number of Unique COUNTRIES:  147 \n",
      "TOP 5\n",
      " United States    9993\n",
      "Australia        2837\n",
      "France           2827\n",
      "Mexico           2644\n",
      "Germany          2065\n",
      "Name: Country, dtype: int64\n",
      "\n",
      "Number of Unique STATES:  1094 \n",
      "TOP 5\n",
      " California       2001\n",
      "England          1499\n",
      "New York         1128\n",
      "Texas             984\n",
      "Ile-de-France     981\n",
      "Name: State, dtype: int64\n",
      "\n",
      "Number of Unique CITIES:  3636 \n",
      "TOP 5\n",
      " New York City    915\n",
      "Los Angeles      747\n",
      "Philadelphia     537\n",
      "San Francisco    510\n",
      "Santo Domingo    443\n",
      "Name: City, dtype: int64\n"
     ]
    }
   ],
   "source": [
    "print(\"Number of Unique COUNTRIES: \", len(newdf['Country'].unique()),\"\\nTOP 5\\n\", newdf['Country'].value_counts().head(5))\n",
    "print(\"\\nNumber of Unique STATES: \", len(newdf['State'].unique()),\"\\nTOP 5\\n\", newdf['State'].value_counts().head(5))\n",
    "print(\"\\nNumber of Unique CITIES: \", len(newdf['City'].unique()),\"\\nTOP 5\\n\", newdf['City'].value_counts().head(5))"
   ]
  },
  {
   "cell_type": "code",
   "execution_count": 68,
   "metadata": {},
   "outputs": [
    {
     "data": {
      "text/plain": [
       "APAC      11002\n",
       "LATAM     10294\n",
       "EU        10000\n",
       "US         9993\n",
       "EMEA       5029\n",
       "Africa     4587\n",
       "Canada      384\n",
       "Name: Market, dtype: int64"
      ]
     },
     "execution_count": 68,
     "metadata": {},
     "output_type": "execute_result"
    }
   ],
   "source": [
    "newdf['Market'].value_counts()"
   ]
  },
  {
   "cell_type": "code",
   "execution_count": 69,
   "metadata": {},
   "outputs": [
    {
     "data": {
      "text/plain": [
       "6    11002\n",
       "5    10294\n",
       "4    10000\n",
       "3     9993\n",
       "2     5029\n",
       "1     4587\n",
       "0      384\n",
       "Name: Market, dtype: int64"
      ]
     },
     "execution_count": 69,
     "metadata": {},
     "output_type": "execute_result"
    }
   ],
   "source": [
    "newdf['Market'] =  newdf['Market'].map({'Canada':0, \n",
    "                                        'Africa':1,\n",
    "                                        'EMEA':2,\n",
    "                                        'US':3,\n",
    "                                        'EU':4,\n",
    "                                        'LATAM':5,\n",
    "                                        'APAC':6})\n",
    "newdf['Market'].value_counts()"
   ]
  },
  {
   "cell_type": "code",
   "execution_count": 70,
   "metadata": {},
   "outputs": [
    {
     "data": {
      "text/plain": [
       "Central           11116\n",
       "South              6645\n",
       "EMEA               5029\n",
       "North              4785\n",
       "Africa             4587\n",
       "Oceania            3487\n",
       "West               3203\n",
       "Southeast Asia     3129\n",
       "East               2848\n",
       "North Asia         2338\n",
       "Central Asia       2048\n",
       "Caribbean          1690\n",
       "Canada              384\n",
       "Name: Region, dtype: int64"
      ]
     },
     "execution_count": 70,
     "metadata": {},
     "output_type": "execute_result"
    }
   ],
   "source": [
    "newdf['Region'].value_counts()"
   ]
  },
  {
   "cell_type": "code",
   "execution_count": 71,
   "metadata": {},
   "outputs": [
    {
     "data": {
      "text/plain": [
       "12    11116\n",
       "11     6645\n",
       "10     5029\n",
       "9      4785\n",
       "8      4587\n",
       "7      3487\n",
       "6      3203\n",
       "5      3129\n",
       "4      2848\n",
       "3      2338\n",
       "2      2048\n",
       "1      1690\n",
       "0       384\n",
       "Name: Region, dtype: int64"
      ]
     },
     "execution_count": 71,
     "metadata": {},
     "output_type": "execute_result"
    }
   ],
   "source": [
    "newdf['Region'] =  newdf['Region'].map({'Canada':0, \n",
    "                                        'Caribbean':1,\n",
    "                                        'Central Asia':2,\n",
    "                                        'North Asia':3,\n",
    "                                        'East':4,\n",
    "                                        'Southeast Asia':5,\n",
    "                                        'West':6,\n",
    "                                        'Oceania':7,\n",
    "                                        'Africa':8,\n",
    "                                        'North':9,\n",
    "                                        'EMEA':10,\n",
    "                                        'South':11,\n",
    "                                        'Central':12})\n",
    "newdf['Region'].value_counts()"
   ]
  },
  {
   "cell_type": "code",
   "execution_count": 72,
   "metadata": {},
   "outputs": [
    {
     "data": {
      "text/plain": [
       "Office Supplies    31272\n",
       "Technology         10141\n",
       "Furniture           9876\n",
       "Name: Category, dtype: int64"
      ]
     },
     "execution_count": 72,
     "metadata": {},
     "output_type": "execute_result"
    }
   ],
   "source": [
    "newdf['Category'].value_counts()"
   ]
  },
  {
   "cell_type": "code",
   "execution_count": 73,
   "metadata": {},
   "outputs": [
    {
     "data": {
      "text/plain": [
       "2    31272\n",
       "1    10141\n",
       "0     9876\n",
       "Name: Category, dtype: int64"
      ]
     },
     "execution_count": 73,
     "metadata": {},
     "output_type": "execute_result"
    }
   ],
   "source": [
    "newdf['Category'] = newdf['Category'].map({'Furniture':0, \n",
    "                                        'Technology':1,\n",
    "                                        'Office Supplies':2})\n",
    "newdf['Category'].value_counts()"
   ]
  },
  {
   "cell_type": "code",
   "execution_count": 74,
   "metadata": {},
   "outputs": [
    {
     "data": {
      "text/plain": [
       "Binders        6152\n",
       "Storage        5059\n",
       "Art            4883\n",
       "Paper          3537\n",
       "Chairs         3434\n",
       "Phones         3357\n",
       "Furnishings    3170\n",
       "Accessories    3075\n",
       "Labels         2606\n",
       "Envelopes      2435\n",
       "Supplies       2425\n",
       "Fasteners      2420\n",
       "Bookcases      2411\n",
       "Copiers        2223\n",
       "Appliances     1755\n",
       "Machines       1486\n",
       "Tables          861\n",
       "Name: Sub-Category, dtype: int64"
      ]
     },
     "execution_count": 74,
     "metadata": {},
     "output_type": "execute_result"
    }
   ],
   "source": [
    "newdf['Sub-Category'].value_counts()"
   ]
  },
  {
   "cell_type": "code",
   "execution_count": 75,
   "metadata": {},
   "outputs": [],
   "source": [
    "newdf['Sub-Category'] =  newdf['Sub-Category'].map({'Binders':0, \n",
    "                                        'Storage':1,\n",
    "                                        'Art':2,\n",
    "                                        'Paper':3,\n",
    "                                        'Chairs':4,\n",
    "                                        'Phones':5,\n",
    "                                        'Furnishings':6,\n",
    "                                        'Accessories':7,\n",
    "                                        'Labels':8,\n",
    "                                        'Envelopes':9,\n",
    "                                        'Supplies':10,\n",
    "                                        'Fasteners':11,\n",
    "                                        'Bookcases':12,\n",
    "                                        'Copiers':13,\n",
    "                                        'Appliances':14,\n",
    "                                        'Machines':15,\n",
    "                                        'Tables':16})"
   ]
  },
  {
   "cell_type": "code",
   "execution_count": 76,
   "metadata": {},
   "outputs": [
    {
     "data": {
      "text/plain": [
       "0     6152\n",
       "1     5059\n",
       "2     4883\n",
       "3     3537\n",
       "4     3434\n",
       "5     3357\n",
       "6     3170\n",
       "7     3075\n",
       "8     2606\n",
       "9     2435\n",
       "10    2425\n",
       "11    2420\n",
       "12    2411\n",
       "13    2223\n",
       "14    1755\n",
       "15    1486\n",
       "16     861\n",
       "Name: Sub-Category, dtype: int64"
      ]
     },
     "execution_count": 76,
     "metadata": {},
     "output_type": "execute_result"
    }
   ],
   "source": [
    "newdf['Sub-Category'].value_counts()"
   ]
  },
  {
   "cell_type": "code",
   "execution_count": 77,
   "metadata": {},
   "outputs": [
    {
     "data": {
      "text/plain": [
       "Medium      29432\n",
       "High        15501\n",
       "Critical     3932\n",
       "Low          2424\n",
       "Name: Order Priority, dtype: int64"
      ]
     },
     "execution_count": 77,
     "metadata": {},
     "output_type": "execute_result"
    }
   ],
   "source": [
    "newdf['Order Priority'].value_counts()"
   ]
  },
  {
   "cell_type": "code",
   "execution_count": 78,
   "metadata": {},
   "outputs": [
    {
     "data": {
      "text/plain": [
       "3    29432\n",
       "2    15501\n",
       "1     3932\n",
       "0     2424\n",
       "Name: Order Priority, dtype: int64"
      ]
     },
     "execution_count": 78,
     "metadata": {},
     "output_type": "execute_result"
    }
   ],
   "source": [
    "newdf['Order Priority'] =  newdf['Order Priority'].map({'Low':0, \n",
    "                                              'Critical':1,\n",
    "                                              'High':2,\n",
    "                                              'Medium':3})\n",
    "newdf['Order Priority'].value_counts()"
   ]
  },
  {
   "cell_type": "code",
   "execution_count": 79,
   "metadata": {},
   "outputs": [
    {
     "data": {
      "text/html": [
       "<div>\n",
       "<style scoped>\n",
       "    .dataframe tbody tr th:only-of-type {\n",
       "        vertical-align: middle;\n",
       "    }\n",
       "\n",
       "    .dataframe tbody tr th {\n",
       "        vertical-align: top;\n",
       "    }\n",
       "\n",
       "    .dataframe thead th {\n",
       "        text-align: right;\n",
       "    }\n",
       "</style>\n",
       "<table border=\"1\" class=\"dataframe\">\n",
       "  <thead>\n",
       "    <tr style=\"text-align: right;\">\n",
       "      <th></th>\n",
       "      <th>Order Date</th>\n",
       "      <th>Ship Date</th>\n",
       "      <th>Ship Mode</th>\n",
       "      <th>Segment</th>\n",
       "      <th>City</th>\n",
       "      <th>State</th>\n",
       "      <th>Country</th>\n",
       "      <th>Market</th>\n",
       "      <th>Region</th>\n",
       "      <th>Category</th>\n",
       "      <th>Sub-Category</th>\n",
       "      <th>Product Name</th>\n",
       "      <th>Sales</th>\n",
       "      <th>Quantity</th>\n",
       "      <th>Discount</th>\n",
       "      <th>Profit</th>\n",
       "      <th>Shipping Cost</th>\n",
       "      <th>Order Priority</th>\n",
       "    </tr>\n",
       "  </thead>\n",
       "  <tbody>\n",
       "    <tr>\n",
       "      <th>0</th>\n",
       "      <td>31-12-2014</td>\n",
       "      <td>03-01-2015</td>\n",
       "      <td>2</td>\n",
       "      <td>1</td>\n",
       "      <td>S�o Paulo</td>\n",
       "      <td>S�o Paulo</td>\n",
       "      <td>Brazil</td>\n",
       "      <td>5</td>\n",
       "      <td>11</td>\n",
       "      <td>1</td>\n",
       "      <td>13</td>\n",
       "      <td>Canon Wireless Fax, Color</td>\n",
       "      <td>1264.4660</td>\n",
       "      <td>5</td>\n",
       "      <td>0.002</td>\n",
       "      <td>301.4660</td>\n",
       "      <td>253.25</td>\n",
       "      <td>2</td>\n",
       "    </tr>\n",
       "    <tr>\n",
       "      <th>1</th>\n",
       "      <td>31-12-2014</td>\n",
       "      <td>01-01-2015</td>\n",
       "      <td>1</td>\n",
       "      <td>1</td>\n",
       "      <td>Jakarta</td>\n",
       "      <td>Jakarta</td>\n",
       "      <td>Indonesia</td>\n",
       "      <td>6</td>\n",
       "      <td>5</td>\n",
       "      <td>0</td>\n",
       "      <td>12</td>\n",
       "      <td>Safco Library with Doors, Pine</td>\n",
       "      <td>1091.2806</td>\n",
       "      <td>3</td>\n",
       "      <td>0.070</td>\n",
       "      <td>46.9206</td>\n",
       "      <td>243.11</td>\n",
       "      <td>2</td>\n",
       "    </tr>\n",
       "    <tr>\n",
       "      <th>2</th>\n",
       "      <td>31-12-2014</td>\n",
       "      <td>02-01-2015</td>\n",
       "      <td>2</td>\n",
       "      <td>2</td>\n",
       "      <td>Ufa</td>\n",
       "      <td>Bashkortostan</td>\n",
       "      <td>Russia</td>\n",
       "      <td>2</td>\n",
       "      <td>10</td>\n",
       "      <td>1</td>\n",
       "      <td>13</td>\n",
       "      <td>Hewlett Personal Copier, Laser</td>\n",
       "      <td>865.6200</td>\n",
       "      <td>6</td>\n",
       "      <td>0.000</td>\n",
       "      <td>51.8400</td>\n",
       "      <td>138.18</td>\n",
       "      <td>2</td>\n",
       "    </tr>\n",
       "    <tr>\n",
       "      <th>3</th>\n",
       "      <td>31-12-2014</td>\n",
       "      <td>03-01-2015</td>\n",
       "      <td>1</td>\n",
       "      <td>1</td>\n",
       "      <td>Bangkok</td>\n",
       "      <td>Bangkok</td>\n",
       "      <td>Thailand</td>\n",
       "      <td>6</td>\n",
       "      <td>5</td>\n",
       "      <td>0</td>\n",
       "      <td>16</td>\n",
       "      <td>Lesro Training Table, Adjustable Height</td>\n",
       "      <td>1048.7313</td>\n",
       "      <td>9</td>\n",
       "      <td>0.570</td>\n",
       "      <td>-1195.2387</td>\n",
       "      <td>86.86</td>\n",
       "      <td>2</td>\n",
       "    </tr>\n",
       "    <tr>\n",
       "      <th>4</th>\n",
       "      <td>31-12-2014</td>\n",
       "      <td>05-01-2015</td>\n",
       "      <td>3</td>\n",
       "      <td>1</td>\n",
       "      <td>Maidenhead</td>\n",
       "      <td>England</td>\n",
       "      <td>United Kingdom</td>\n",
       "      <td>4</td>\n",
       "      <td>9</td>\n",
       "      <td>1</td>\n",
       "      <td>5</td>\n",
       "      <td>Motorola Audio Dock, VoIP</td>\n",
       "      <td>867.3000</td>\n",
       "      <td>5</td>\n",
       "      <td>0.000</td>\n",
       "      <td>251.4000</td>\n",
       "      <td>53.16</td>\n",
       "      <td>3</td>\n",
       "    </tr>\n",
       "  </tbody>\n",
       "</table>\n",
       "</div>"
      ],
      "text/plain": [
       "   Order Date   Ship Date  Ship Mode  Segment        City          State  \\\n",
       "0  31-12-2014  03-01-2015          2        1   S�o Paulo      S�o Paulo   \n",
       "1  31-12-2014  01-01-2015          1        1     Jakarta        Jakarta   \n",
       "2  31-12-2014  02-01-2015          2        2         Ufa  Bashkortostan   \n",
       "3  31-12-2014  03-01-2015          1        1     Bangkok        Bangkok   \n",
       "4  31-12-2014  05-01-2015          3        1  Maidenhead        England   \n",
       "\n",
       "          Country  Market  Region  Category  Sub-Category  \\\n",
       "0          Brazil       5      11         1            13   \n",
       "1       Indonesia       6       5         0            12   \n",
       "2          Russia       2      10         1            13   \n",
       "3        Thailand       6       5         0            16   \n",
       "4  United Kingdom       4       9         1             5   \n",
       "\n",
       "                              Product Name      Sales  Quantity  Discount  \\\n",
       "0                Canon Wireless Fax, Color  1264.4660         5     0.002   \n",
       "1           Safco Library with Doors, Pine  1091.2806         3     0.070   \n",
       "2           Hewlett Personal Copier, Laser   865.6200         6     0.000   \n",
       "3  Lesro Training Table, Adjustable Height  1048.7313         9     0.570   \n",
       "4                Motorola Audio Dock, VoIP   867.3000         5     0.000   \n",
       "\n",
       "      Profit  Shipping Cost  Order Priority  \n",
       "0   301.4660         253.25               2  \n",
       "1    46.9206         243.11               2  \n",
       "2    51.8400         138.18               2  \n",
       "3 -1195.2387          86.86               2  \n",
       "4   251.4000          53.16               3  "
      ]
     },
     "execution_count": 79,
     "metadata": {},
     "output_type": "execute_result"
    }
   ],
   "source": [
    "newdf.head()"
   ]
  },
  {
   "cell_type": "markdown",
   "metadata": {},
   "source": [
    "DESCRIPTION OF THE DATAFRAME"
   ]
  },
  {
   "cell_type": "code",
   "execution_count": 80,
   "metadata": {},
   "outputs": [
    {
     "data": {
      "text/html": [
       "<div>\n",
       "<style scoped>\n",
       "    .dataframe tbody tr th:only-of-type {\n",
       "        vertical-align: middle;\n",
       "    }\n",
       "\n",
       "    .dataframe tbody tr th {\n",
       "        vertical-align: top;\n",
       "    }\n",
       "\n",
       "    .dataframe thead th {\n",
       "        text-align: right;\n",
       "    }\n",
       "</style>\n",
       "<table border=\"1\" class=\"dataframe\">\n",
       "  <thead>\n",
       "    <tr style=\"text-align: right;\">\n",
       "      <th></th>\n",
       "      <th>Ship Mode</th>\n",
       "      <th>Segment</th>\n",
       "      <th>Market</th>\n",
       "      <th>Region</th>\n",
       "      <th>Category</th>\n",
       "      <th>Sub-Category</th>\n",
       "      <th>Sales</th>\n",
       "      <th>Quantity</th>\n",
       "      <th>Discount</th>\n",
       "      <th>Profit</th>\n",
       "      <th>Shipping Cost</th>\n",
       "      <th>Order Priority</th>\n",
       "    </tr>\n",
       "  </thead>\n",
       "  <tbody>\n",
       "    <tr>\n",
       "      <th>count</th>\n",
       "      <td>51289.000000</td>\n",
       "      <td>51289.000000</td>\n",
       "      <td>51289.000000</td>\n",
       "      <td>51289.000000</td>\n",
       "      <td>51289.000000</td>\n",
       "      <td>51289.000000</td>\n",
       "      <td>51289.000000</td>\n",
       "      <td>51289.000000</td>\n",
       "      <td>51289.000000</td>\n",
       "      <td>51289.000000</td>\n",
       "      <td>51289.000000</td>\n",
       "      <td>51289.000000</td>\n",
       "    </tr>\n",
       "    <tr>\n",
       "      <th>mean</th>\n",
       "      <td>2.348359</td>\n",
       "      <td>1.334867</td>\n",
       "      <td>3.940533</td>\n",
       "      <td>8.188929</td>\n",
       "      <td>1.417165</td>\n",
       "      <td>6.016924</td>\n",
       "      <td>246.495075</td>\n",
       "      <td>3.476554</td>\n",
       "      <td>0.142906</td>\n",
       "      <td>28.611431</td>\n",
       "      <td>26.376403</td>\n",
       "      <td>2.402659</td>\n",
       "    </tr>\n",
       "    <tr>\n",
       "      <th>std</th>\n",
       "      <td>0.914139</td>\n",
       "      <td>0.766205</td>\n",
       "      <td>1.602188</td>\n",
       "      <td>3.392634</td>\n",
       "      <td>0.792630</td>\n",
       "      <td>4.681831</td>\n",
       "      <td>487.569052</td>\n",
       "      <td>2.278788</td>\n",
       "      <td>0.212282</td>\n",
       "      <td>174.342642</td>\n",
       "      <td>57.297256</td>\n",
       "      <td>0.823064</td>\n",
       "    </tr>\n",
       "    <tr>\n",
       "      <th>min</th>\n",
       "      <td>0.000000</td>\n",
       "      <td>0.000000</td>\n",
       "      <td>0.000000</td>\n",
       "      <td>0.000000</td>\n",
       "      <td>0.000000</td>\n",
       "      <td>0.000000</td>\n",
       "      <td>0.444000</td>\n",
       "      <td>1.000000</td>\n",
       "      <td>0.000000</td>\n",
       "      <td>-6599.978000</td>\n",
       "      <td>0.000000</td>\n",
       "      <td>0.000000</td>\n",
       "    </tr>\n",
       "    <tr>\n",
       "      <th>25%</th>\n",
       "      <td>2.000000</td>\n",
       "      <td>1.000000</td>\n",
       "      <td>3.000000</td>\n",
       "      <td>6.000000</td>\n",
       "      <td>1.000000</td>\n",
       "      <td>2.000000</td>\n",
       "      <td>30.766500</td>\n",
       "      <td>2.000000</td>\n",
       "      <td>0.000000</td>\n",
       "      <td>0.000000</td>\n",
       "      <td>2.610000</td>\n",
       "      <td>2.000000</td>\n",
       "    </tr>\n",
       "    <tr>\n",
       "      <th>50%</th>\n",
       "      <td>3.000000</td>\n",
       "      <td>2.000000</td>\n",
       "      <td>4.000000</td>\n",
       "      <td>9.000000</td>\n",
       "      <td>2.000000</td>\n",
       "      <td>5.000000</td>\n",
       "      <td>85.056000</td>\n",
       "      <td>3.000000</td>\n",
       "      <td>0.000000</td>\n",
       "      <td>9.240000</td>\n",
       "      <td>7.790000</td>\n",
       "      <td>3.000000</td>\n",
       "    </tr>\n",
       "    <tr>\n",
       "      <th>75%</th>\n",
       "      <td>3.000000</td>\n",
       "      <td>2.000000</td>\n",
       "      <td>5.000000</td>\n",
       "      <td>11.000000</td>\n",
       "      <td>2.000000</td>\n",
       "      <td>10.000000</td>\n",
       "      <td>251.067600</td>\n",
       "      <td>5.000000</td>\n",
       "      <td>0.200000</td>\n",
       "      <td>36.810000</td>\n",
       "      <td>24.450000</td>\n",
       "      <td>3.000000</td>\n",
       "    </tr>\n",
       "    <tr>\n",
       "      <th>max</th>\n",
       "      <td>3.000000</td>\n",
       "      <td>2.000000</td>\n",
       "      <td>6.000000</td>\n",
       "      <td>12.000000</td>\n",
       "      <td>2.000000</td>\n",
       "      <td>16.000000</td>\n",
       "      <td>22638.480000</td>\n",
       "      <td>14.000000</td>\n",
       "      <td>0.850000</td>\n",
       "      <td>8399.976000</td>\n",
       "      <td>933.570000</td>\n",
       "      <td>3.000000</td>\n",
       "    </tr>\n",
       "  </tbody>\n",
       "</table>\n",
       "</div>"
      ],
      "text/plain": [
       "          Ship Mode       Segment        Market        Region      Category  \\\n",
       "count  51289.000000  51289.000000  51289.000000  51289.000000  51289.000000   \n",
       "mean       2.348359      1.334867      3.940533      8.188929      1.417165   \n",
       "std        0.914139      0.766205      1.602188      3.392634      0.792630   \n",
       "min        0.000000      0.000000      0.000000      0.000000      0.000000   \n",
       "25%        2.000000      1.000000      3.000000      6.000000      1.000000   \n",
       "50%        3.000000      2.000000      4.000000      9.000000      2.000000   \n",
       "75%        3.000000      2.000000      5.000000     11.000000      2.000000   \n",
       "max        3.000000      2.000000      6.000000     12.000000      2.000000   \n",
       "\n",
       "       Sub-Category         Sales      Quantity      Discount        Profit  \\\n",
       "count  51289.000000  51289.000000  51289.000000  51289.000000  51289.000000   \n",
       "mean       6.016924    246.495075      3.476554      0.142906     28.611431   \n",
       "std        4.681831    487.569052      2.278788      0.212282    174.342642   \n",
       "min        0.000000      0.444000      1.000000      0.000000  -6599.978000   \n",
       "25%        2.000000     30.766500      2.000000      0.000000      0.000000   \n",
       "50%        5.000000     85.056000      3.000000      0.000000      9.240000   \n",
       "75%       10.000000    251.067600      5.000000      0.200000     36.810000   \n",
       "max       16.000000  22638.480000     14.000000      0.850000   8399.976000   \n",
       "\n",
       "       Shipping Cost  Order Priority  \n",
       "count   51289.000000    51289.000000  \n",
       "mean       26.376403        2.402659  \n",
       "std        57.297256        0.823064  \n",
       "min         0.000000        0.000000  \n",
       "25%         2.610000        2.000000  \n",
       "50%         7.790000        3.000000  \n",
       "75%        24.450000        3.000000  \n",
       "max       933.570000        3.000000  "
      ]
     },
     "execution_count": 80,
     "metadata": {},
     "output_type": "execute_result"
    }
   ],
   "source": [
    "newdf.describe()"
   ]
  }
 ],
 "metadata": {
  "kernelspec": {
   "display_name": "InternshipEdunetKernel",
   "language": "python",
   "name": "internshipedunetkernel"
  },
  "language_info": {
   "codemirror_mode": {
    "name": "ipython",
    "version": 3
   },
   "file_extension": ".py",
   "mimetype": "text/x-python",
   "name": "python",
   "nbconvert_exporter": "python",
   "pygments_lexer": "ipython3",
   "version": "3.10.9"
  },
  "orig_nbformat": 4
 },
 "nbformat": 4,
 "nbformat_minor": 2
}
